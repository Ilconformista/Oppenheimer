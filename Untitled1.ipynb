{
  "nbformat": 4,
  "nbformat_minor": 0,
  "metadata": {
    "colab": {
      "provenance": [],
      "authorship_tag": "ABX9TyMSYIhoYGVxpX1WQfeFkmHW",
      "include_colab_link": true
    },
    "kernelspec": {
      "name": "python3",
      "display_name": "Python 3"
    },
    "language_info": {
      "name": "python"
    }
  },
  "cells": [
    {
      "cell_type": "markdown",
      "metadata": {
        "id": "view-in-github",
        "colab_type": "text"
      },
      "source": [
        "<a href=\"https://colab.research.google.com/github/Ilconformista/Oppenheimer/blob/main/Untitled1.ipynb\" target=\"_parent\"><img src=\"https://colab.research.google.com/assets/colab-badge.svg\" alt=\"Open In Colab\"/></a>"
      ]
    },
    {
      "cell_type": "code",
      "execution_count": null,
      "metadata": {
        "colab": {
          "base_uri": "https://localhost:8080/"
        },
        "id": "U91Ar5OxzYwK",
        "outputId": "4589dee1-ef83-4462-de38-ac9d3061edbe"
      },
      "outputs": [
        {
          "output_type": "stream",
          "name": "stdout",
          "text": [
            "Requirement already satisfied: music21 in /usr/local/lib/python3.10/dist-packages (9.1.0)\n",
            "Requirement already satisfied: chardet in /usr/local/lib/python3.10/dist-packages (from music21) (5.2.0)\n",
            "Requirement already satisfied: joblib in /usr/local/lib/python3.10/dist-packages (from music21) (1.4.2)\n",
            "Requirement already satisfied: jsonpickle in /usr/local/lib/python3.10/dist-packages (from music21) (3.0.4)\n",
            "Requirement already satisfied: matplotlib in /usr/local/lib/python3.10/dist-packages (from music21) (3.7.1)\n",
            "Requirement already satisfied: more-itertools in /usr/local/lib/python3.10/dist-packages (from music21) (10.1.0)\n",
            "Requirement already satisfied: numpy in /usr/local/lib/python3.10/dist-packages (from music21) (1.25.2)\n",
            "Requirement already satisfied: requests in /usr/local/lib/python3.10/dist-packages (from music21) (2.31.0)\n",
            "Requirement already satisfied: webcolors>=1.5 in /usr/local/lib/python3.10/dist-packages (from music21) (1.13)\n",
            "Requirement already satisfied: contourpy>=1.0.1 in /usr/local/lib/python3.10/dist-packages (from matplotlib->music21) (1.2.1)\n",
            "Requirement already satisfied: cycler>=0.10 in /usr/local/lib/python3.10/dist-packages (from matplotlib->music21) (0.12.1)\n",
            "Requirement already satisfied: fonttools>=4.22.0 in /usr/local/lib/python3.10/dist-packages (from matplotlib->music21) (4.51.0)\n",
            "Requirement already satisfied: kiwisolver>=1.0.1 in /usr/local/lib/python3.10/dist-packages (from matplotlib->music21) (1.4.5)\n",
            "Requirement already satisfied: packaging>=20.0 in /usr/local/lib/python3.10/dist-packages (from matplotlib->music21) (24.0)\n",
            "Requirement already satisfied: pillow>=6.2.0 in /usr/local/lib/python3.10/dist-packages (from matplotlib->music21) (9.4.0)\n",
            "Requirement already satisfied: pyparsing>=2.3.1 in /usr/local/lib/python3.10/dist-packages (from matplotlib->music21) (3.1.2)\n",
            "Requirement already satisfied: python-dateutil>=2.7 in /usr/local/lib/python3.10/dist-packages (from matplotlib->music21) (2.8.2)\n",
            "Requirement already satisfied: charset-normalizer<4,>=2 in /usr/local/lib/python3.10/dist-packages (from requests->music21) (3.3.2)\n",
            "Requirement already satisfied: idna<4,>=2.5 in /usr/local/lib/python3.10/dist-packages (from requests->music21) (3.7)\n",
            "Requirement already satisfied: urllib3<3,>=1.21.1 in /usr/local/lib/python3.10/dist-packages (from requests->music21) (2.0.7)\n",
            "Requirement already satisfied: certifi>=2017.4.17 in /usr/local/lib/python3.10/dist-packages (from requests->music21) (2024.2.2)\n",
            "Requirement already satisfied: six>=1.5 in /usr/local/lib/python3.10/dist-packages (from python-dateutil>=2.7->matplotlib->music21) (1.16.0)\n"
          ]
        }
      ],
      "source": [
        "!pip install music21\n"
      ]
    },
    {
      "cell_type": "code",
      "source": [
        "from music21 import stream, chord, tempo, meter, key\n",
        "\n",
        "def create_partita():\n",
        "    # Initialize a stream for the partita\n",
        "    partita = stream.Score()\n",
        "\n",
        "    # Define tempo markings\n",
        "    moderato = tempo.MetronomeMark(number=100)\n",
        "    allegro = tempo.MetronomeMark(number=120)\n",
        "    adagio = tempo.MetronomeMark(number=60)\n",
        "    vivace = tempo.MetronomeMark(number=140)\n",
        "\n",
        "    # Define chord progressions for each movement\n",
        "    chords_allemande = [chord.Chord(['C4', 'E-4', 'G4']), chord.Chord(['G4', 'B-4', 'D5', 'F5']),\n",
        "                        chord.Chord(['A-4', 'C5', 'E-5']), chord.Chord(['G4', 'B-4', 'D5']),\n",
        "                        chord.Chord(['C4', 'E-4', 'G4']), chord.Chord(['F4', 'A-4', 'C5']),\n",
        "                        chord.Chord(['B-4', 'D5', 'F5']), chord.Chord(['E-4', 'G4', 'B-4']),\n",
        "                        chord.Chord(['A-4', 'C5', 'E-5']), chord.Chord(['G4', 'B-4', 'D5']),\n",
        "                        chord.Chord(['C4', 'E-4', 'G4']), chord.Chord(['C4', 'E-4', 'G4']),\n",
        "                        chord.Chord(['G4', 'B-4', 'D5']), chord.Chord(['A-4', 'C5', 'E-5']),\n",
        "                        chord.Chord(['B-4', 'D5', 'F5']), chord.Chord(['E-4', 'G4', 'B-4']),\n",
        "                        chord.Chord(['A-4', 'C5', 'E-5']), chord.Chord(['G4', 'B-4', 'D5']),\n",
        "                        chord.Chord(['C4', 'E-4', 'G4']), chord.Chord(['C4', 'E-4', 'G4'])]\n",
        "\n",
        "    chords_courante = chords_allemande\n",
        "    chords_sarabande = chords_allemande\n",
        "    chords_gigue = chords_allemande\n",
        "\n",
        "    # Create each movement and add chords\n",
        "    movements = [('Allemande', moderato, chords_allemande, '4/4'),\n",
        "                 ('Courante', allegro, chords_courante, '3/4'),\n",
        "                 ('Sarabande', adagio, chords_sarabande, '3/4'),\n",
        "                 ('Gigue', vivace, chords_gigue, '6/8')]\n",
        "\n",
        "    for movement_name, movement_tempo, chords, time_sig in movements:\n",
        "        movement = stream.Part()\n",
        "        movement.append(movement_tempo)\n",
        "        movement.append(meter.TimeSignature(time_sig))\n",
        "        movement.append(key.KeySignature(-3))  # Add a new key signature object for each part\n",
        "        for chord_notes in chords:\n",
        "            movement.append(chord_notes)\n",
        "        partita.append(movement)\n",
        "\n",
        "    return partita\n",
        "\n",
        "# Create the partita\n",
        "partita = create_partita()\n",
        "\n",
        "# Show the stream (for example, as text)\n",
        "partita.show('text')\n",
        "\n",
        "# Save the MIDI file\n",
        "mf = partita.write('midi', fp='partita_c_minor.mid')\n",
        "\n",
        "# Download the MIDI file\n",
        "from google.colab import files\n",
        "files.download('partita_c_minor.mid')\n"
      ],
      "metadata": {
        "id": "sU7hdHHN0gEk",
        "outputId": "36cd3405-b3cb-4eff-dfa0-5083ba4b29c5",
        "colab": {
          "base_uri": "https://localhost:8080/",
          "height": 1000
        }
      },
      "execution_count": null,
      "outputs": [
        {
          "output_type": "stream",
          "name": "stdout",
          "text": [
            "{0.0} <music21.stream.Part 0x7ef483ada1a0>\n",
            "    {0.0} <music21.tempo.MetronomeMark Quarter=100>\n",
            "    {0.0} <music21.key.KeySignature of 3 flats>\n",
            "    {0.0} <music21.meter.TimeSignature 4/4>\n",
            "    {0.0} <music21.chord.Chord C4 E-4 G4>\n",
            "    {1.0} <music21.chord.Chord G4 B-4 D5 F5>\n",
            "    {2.0} <music21.chord.Chord A-4 C5 E-5>\n",
            "    {3.0} <music21.chord.Chord G4 B-4 D5>\n",
            "    {4.0} <music21.chord.Chord C4 E-4 G4>\n",
            "    {5.0} <music21.chord.Chord F4 A-4 C5>\n",
            "    {6.0} <music21.chord.Chord B-4 D5 F5>\n",
            "    {7.0} <music21.chord.Chord E-4 G4 B-4>\n",
            "    {8.0} <music21.chord.Chord A-4 C5 E-5>\n",
            "    {9.0} <music21.chord.Chord G4 B-4 D5>\n",
            "    {10.0} <music21.chord.Chord C4 E-4 G4>\n",
            "    {11.0} <music21.chord.Chord C4 E-4 G4>\n",
            "    {12.0} <music21.chord.Chord G4 B-4 D5>\n",
            "    {13.0} <music21.chord.Chord A-4 C5 E-5>\n",
            "    {14.0} <music21.chord.Chord B-4 D5 F5>\n",
            "    {15.0} <music21.chord.Chord E-4 G4 B-4>\n",
            "    {16.0} <music21.chord.Chord A-4 C5 E-5>\n",
            "    {17.0} <music21.chord.Chord G4 B-4 D5>\n",
            "    {18.0} <music21.chord.Chord C4 E-4 G4>\n",
            "    {19.0} <music21.chord.Chord C4 E-4 G4>\n",
            "{20.0} <music21.stream.Part 0x7ef483ada4d0>\n",
            "    {0.0} <music21.tempo.MetronomeMark animato Quarter=120>\n",
            "    {0.0} <music21.key.KeySignature of 3 flats>\n",
            "    {0.0} <music21.meter.TimeSignature 3/4>\n",
            "    {0.0} <music21.chord.Chord C4 E-4 G4>\n",
            "    {1.0} <music21.chord.Chord G4 B-4 D5 F5>\n",
            "    {2.0} <music21.chord.Chord A-4 C5 E-5>\n",
            "    {3.0} <music21.chord.Chord G4 B-4 D5>\n",
            "    {4.0} <music21.chord.Chord C4 E-4 G4>\n",
            "    {5.0} <music21.chord.Chord F4 A-4 C5>\n",
            "    {6.0} <music21.chord.Chord B-4 D5 F5>\n",
            "    {7.0} <music21.chord.Chord E-4 G4 B-4>\n",
            "    {8.0} <music21.chord.Chord A-4 C5 E-5>\n",
            "    {9.0} <music21.chord.Chord G4 B-4 D5>\n",
            "    {10.0} <music21.chord.Chord C4 E-4 G4>\n",
            "    {11.0} <music21.chord.Chord C4 E-4 G4>\n",
            "    {12.0} <music21.chord.Chord G4 B-4 D5>\n",
            "    {13.0} <music21.chord.Chord A-4 C5 E-5>\n",
            "    {14.0} <music21.chord.Chord B-4 D5 F5>\n",
            "    {15.0} <music21.chord.Chord E-4 G4 B-4>\n",
            "    {16.0} <music21.chord.Chord A-4 C5 E-5>\n",
            "    {17.0} <music21.chord.Chord G4 B-4 D5>\n",
            "    {18.0} <music21.chord.Chord C4 E-4 G4>\n",
            "    {19.0} <music21.chord.Chord C4 E-4 G4>\n",
            "{40.0} <music21.stream.Part 0x7ef483adbfa0>\n",
            "    {0.0} <music21.tempo.MetronomeMark larghetto Quarter=60>\n",
            "    {0.0} <music21.key.KeySignature of 3 flats>\n",
            "    {0.0} <music21.meter.TimeSignature 3/4>\n",
            "    {0.0} <music21.chord.Chord C4 E-4 G4>\n",
            "    {1.0} <music21.chord.Chord G4 B-4 D5 F5>\n",
            "    {2.0} <music21.chord.Chord A-4 C5 E-5>\n",
            "    {3.0} <music21.chord.Chord G4 B-4 D5>\n",
            "    {4.0} <music21.chord.Chord C4 E-4 G4>\n",
            "    {5.0} <music21.chord.Chord F4 A-4 C5>\n",
            "    {6.0} <music21.chord.Chord B-4 D5 F5>\n",
            "    {7.0} <music21.chord.Chord E-4 G4 B-4>\n",
            "    {8.0} <music21.chord.Chord A-4 C5 E-5>\n",
            "    {9.0} <music21.chord.Chord G4 B-4 D5>\n",
            "    {10.0} <music21.chord.Chord C4 E-4 G4>\n",
            "    {11.0} <music21.chord.Chord C4 E-4 G4>\n",
            "    {12.0} <music21.chord.Chord G4 B-4 D5>\n",
            "    {13.0} <music21.chord.Chord A-4 C5 E-5>\n",
            "    {14.0} <music21.chord.Chord B-4 D5 F5>\n",
            "    {15.0} <music21.chord.Chord E-4 G4 B-4>\n",
            "    {16.0} <music21.chord.Chord A-4 C5 E-5>\n",
            "    {17.0} <music21.chord.Chord G4 B-4 D5>\n",
            "    {18.0} <music21.chord.Chord C4 E-4 G4>\n",
            "    {19.0} <music21.chord.Chord C4 E-4 G4>\n",
            "{60.0} <music21.stream.Part 0x7ef483adb9d0>\n",
            "    {0.0} <music21.tempo.MetronomeMark allegrissimo Quarter=140>\n",
            "    {0.0} <music21.key.KeySignature of 3 flats>\n",
            "    {0.0} <music21.meter.TimeSignature 6/8>\n",
            "    {0.0} <music21.chord.Chord C4 E-4 G4>\n",
            "    {1.0} <music21.chord.Chord G4 B-4 D5 F5>\n",
            "    {2.0} <music21.chord.Chord A-4 C5 E-5>\n",
            "    {3.0} <music21.chord.Chord G4 B-4 D5>\n",
            "    {4.0} <music21.chord.Chord C4 E-4 G4>\n",
            "    {5.0} <music21.chord.Chord F4 A-4 C5>\n",
            "    {6.0} <music21.chord.Chord B-4 D5 F5>\n",
            "    {7.0} <music21.chord.Chord E-4 G4 B-4>\n",
            "    {8.0} <music21.chord.Chord A-4 C5 E-5>\n",
            "    {9.0} <music21.chord.Chord G4 B-4 D5>\n",
            "    {10.0} <music21.chord.Chord C4 E-4 G4>\n",
            "    {11.0} <music21.chord.Chord C4 E-4 G4>\n",
            "    {12.0} <music21.chord.Chord G4 B-4 D5>\n",
            "    {13.0} <music21.chord.Chord A-4 C5 E-5>\n",
            "    {14.0} <music21.chord.Chord B-4 D5 F5>\n",
            "    {15.0} <music21.chord.Chord E-4 G4 B-4>\n",
            "    {16.0} <music21.chord.Chord A-4 C5 E-5>\n",
            "    {17.0} <music21.chord.Chord G4 B-4 D5>\n",
            "    {18.0} <music21.chord.Chord C4 E-4 G4>\n",
            "    {19.0} <music21.chord.Chord C4 E-4 G4>\n"
          ]
        },
        {
          "output_type": "display_data",
          "data": {
            "text/plain": [
              "<IPython.core.display.Javascript object>"
            ],
            "application/javascript": [
              "\n",
              "    async function download(id, filename, size) {\n",
              "      if (!google.colab.kernel.accessAllowed) {\n",
              "        return;\n",
              "      }\n",
              "      const div = document.createElement('div');\n",
              "      const label = document.createElement('label');\n",
              "      label.textContent = `Downloading \"${filename}\": `;\n",
              "      div.appendChild(label);\n",
              "      const progress = document.createElement('progress');\n",
              "      progress.max = size;\n",
              "      div.appendChild(progress);\n",
              "      document.body.appendChild(div);\n",
              "\n",
              "      const buffers = [];\n",
              "      let downloaded = 0;\n",
              "\n",
              "      const channel = await google.colab.kernel.comms.open(id);\n",
              "      // Send a message to notify the kernel that we're ready.\n",
              "      channel.send({})\n",
              "\n",
              "      for await (const message of channel.messages) {\n",
              "        // Send a message to notify the kernel that we're ready.\n",
              "        channel.send({})\n",
              "        if (message.buffers) {\n",
              "          for (const buffer of message.buffers) {\n",
              "            buffers.push(buffer);\n",
              "            downloaded += buffer.byteLength;\n",
              "            progress.value = downloaded;\n",
              "          }\n",
              "        }\n",
              "      }\n",
              "      const blob = new Blob(buffers, {type: 'application/binary'});\n",
              "      const a = document.createElement('a');\n",
              "      a.href = window.URL.createObjectURL(blob);\n",
              "      a.download = filename;\n",
              "      div.appendChild(a);\n",
              "      a.click();\n",
              "      div.remove();\n",
              "    }\n",
              "  "
            ]
          },
          "metadata": {}
        },
        {
          "output_type": "display_data",
          "data": {
            "text/plain": [
              "<IPython.core.display.Javascript object>"
            ],
            "application/javascript": [
              "download(\"download_799a6998-31b8-4d80-9b7e-8e06af3b8cc9\", \"partita_c_minor.mid\", 2233)"
            ]
          },
          "metadata": {}
        }
      ]
    }
  ]
}